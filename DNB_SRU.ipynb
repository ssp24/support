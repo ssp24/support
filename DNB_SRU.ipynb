{
 "cells": [
  {
   "cell_type": "markdown",
   "metadata": {},
   "source": [
    "# DNBLab Jupyter Notebook Skript \n",
    "\n",
    "## Abfrage der SRU-Schnittstelle\n",
    "\n"
   ]
  },
  {
   "cell_type": "markdown",
   "metadata": {},
   "source": [
    "### Importieren passender Bibliotheken  <a class=\"anchor\" id=\"Teil1\"></a>"
   ]
  },
  {
   "cell_type": "code",
   "execution_count": 1,
   "metadata": {},
   "outputs": [],
   "source": [
    "import requests\n",
    "import pandas as pd\n",
    "import lxml.etree as ET\n",
    "from bs4 import BeautifulSoup as soup\n",
    "import unicodedata"
   ]
  },
  {
   "cell_type": "markdown",
   "metadata": {},
   "source": [
    "### Schnelle Abfrage (100 erste Treffer, nur Rückgabe der Treffermenge)  <a class=\"anchor\" id=\"Teil1\"></a>"
   ]
  },
  {
   "cell_type": "code",
   "execution_count": 4,
   "metadata": {},
   "outputs": [],
   "source": [
    "def sru_dnb_simple(query): \n",
    "\n",
    "    dnb_url = \"https://services.dnb.de/sru/dnb\"\n",
    "    parameter = {'version' : '1.1' , 'operation' : 'searchRetrieve' , 'query' : query,\n",
    "                 'recordSchema' : 'MARC21-xml', 'maximumRecords': '100'} \n",
    "\n",
    "    r = requests.get(dnb_url, params = parameter)\n",
    "    response = soup(r.content)\n",
    "    number = response.find_all('numberofrecords')[0].text\n",
    "    \n",
    "    return number\n",
    "    \n",
    "    "
   ]
  },
  {
   "cell_type": "code",
   "execution_count": 8,
   "metadata": {},
   "outputs": [
    {
     "name": "stdout",
     "output_type": "stream",
     "text": [
      "3838 Ergebnisse\n"
     ]
    }
   ],
   "source": [
    "#myquery1 = sru_dnb_simple('HSS=diss* and (sgt=\"3*\" or sgt=\"5*\" or sgt=\"6*\") and jhr=\"1980\"')\n",
    "myquery1 = sru_dnb_simple('HSS=diss* and (sgt=\"5*\") and jhr=\"1980\"')\n",
    "print(myquery1, \"Ergebnisse\")"
   ]
  },
  {
   "cell_type": "markdown",
   "metadata": {},
   "source": [
    "### Abfrage aller Ergebnisse über SRU - ACHTUNG: Das kann dauern! "
   ]
  },
  {
   "cell_type": "markdown",
   "metadata": {},
   "source": [
    "Bei sehr umfangreichen Anfragen kann es ggf. zu Abbrüchen kommen - in diesem Fall bietet es sich an, die Abfrage entweder noch einmal aufzuteilen oder bspw. nach je 100 Schliefendurchläufen eine Pause einzubauen. "
   ]
  },
  {
   "cell_type": "code",
   "execution_count": 9,
   "metadata": {},
   "outputs": [],
   "source": [
    "def dnb_sru(query):\n",
    "    \n",
    "    base_url = \"https://services.dnb.de/sru/dnb\"\n",
    "    params = {'recordSchema' : 'MARC21-xml',\n",
    "          'operation': 'searchRetrieve',\n",
    "          'version': '1.1',\n",
    "          'maximumRecords': '100',\n",
    "          'query': query\n",
    "         }\n",
    "    r = requests.get(base_url, params=params)\n",
    "    xml = soup(r.content)\n",
    "    records = xml.find_all('record', {'type':'Bibliographic'})\n",
    "    \n",
    "    if len(records) < 100:\n",
    "        \n",
    "        return records\n",
    "    \n",
    "    else:\n",
    "        \n",
    "        num_results = 100\n",
    "        i = 101\n",
    "        while num_results == 100:\n",
    "            \n",
    "            params.update({'startRecord': i})\n",
    "            r = requests.get(base_url, params=params)\n",
    "            xml = soup(r.content)\n",
    "            new_records = xml.find_all('record', {'type':'Bibliographic'})\n",
    "            records+=new_records\n",
    "            i+=100\n",
    "            num_results = len(new_records)\n",
    "            \n",
    "        return records\n",
    "\n"
   ]
  },
  {
   "cell_type": "code",
   "execution_count": 17,
   "metadata": {},
   "outputs": [
    {
     "name": "stdout",
     "output_type": "stream",
     "text": [
      "3838 Ergebnisse\n"
     ]
    }
   ],
   "source": [
    "myquery = dnb_sru('HSS=diss* and (sgt=\"5*\") and jhr=\"1980\"')\n",
    "print(len(myquery), \"Ergebnisse\")"
   ]
  },
  {
   "cell_type": "code",
   "execution_count": 16,
   "metadata": {},
   "outputs": [],
   "source": [
    "# Ausgabe EINES Treffers aus der XML-Antwort der Schnittstelle \n",
    "# Die Zahl in Klammern gibt die Nummer des angezeigten Treffers wieder, beginnend bei 0 für den ersten Treffer. \n",
    "\n",
    "#print(myquery[0])"
   ]
  },
  {
   "cell_type": "markdown",
   "metadata": {},
   "source": [
    "### Verarbeiten der Ergebnisse  <a class=\"anchor\" id=\"Teil4\"></a>"
   ]
  },
  {
   "cell_type": "markdown",
   "metadata": {},
   "source": [
    "Hier wird die XML-Antwort der SRU-Schnittstelle Treffer für Treffer übergeben und bestimmte Inhalte herausgezogen, um im Anschluss in ein Dataframe zur weiteren Arbeit und Analyse übertragen zu werden."
   ]
  },
  {
   "cell_type": "code",
   "execution_count": 18,
   "metadata": {},
   "outputs": [],
   "source": [
    "def parse_record(record):\n",
    "    \n",
    "    ns = {\"marc\":\"http://www.loc.gov/MARC21/slim\"}\n",
    "    xml = ET.fromstring(unicodedata.normalize(\"NFC\", str(record)))\n",
    "    \n",
    "    #idn\n",
    "    idn = xml.xpath(\"marc:controlfield[@tag = '001']\", namespaces=ns)\n",
    "    try:\n",
    "        idn = idn[0].text\n",
    "    except:\n",
    "        idn = 'fail'\n",
    "    \n",
    "    # titel\n",
    "    titel = xml.xpath(\"marc:datafield[@tag = '245']/marc:subfield[@code = 'a']\", namespaces=ns)\n",
    "    try:\n",
    "        titel = titel[0].text\n",
    "    except:\n",
    "        titel = \"unknown\"\n",
    "        \n",
    "    \n",
    "    # author\n",
    "    author = xml.xpath(\"marc:datafield[@tag = '100']/marc:subfield[@code = 'a']\", namespaces=ns)\n",
    "    try:\n",
    "        author = author[0].text\n",
    "    except:\n",
    "        author = \"unknown\"\n",
    "        \n",
    "        \n",
    "    #gnd\n",
    "    gnd = xml.xpath(\"marc:datafield[@tag = '100']/marc:subfield[@code = '0']\", namespaces=ns)\n",
    "    try:\n",
    "        gnd = gnd[0].text\n",
    "    except:\n",
    "        gnd = \"none\"\n",
    "  \n",
    "\n",
    "    # supervisor (maybe):\n",
    "    superv = xml.xpath(\"marc:datafield[@tag = '700']/marc:subfield[@code = 'a']\", namespaces=ns)\n",
    "    superrole = xml.xpath(\"marc:datafield[@tag = '700']/marc:subfield[@code = 'e']\", namespaces=ns)\n",
    "    try:\n",
    "        superv = superv[0].text\n",
    "        superrole = superrole[0].text\n",
    "        supervisor = superv + \" - \" + superrole\n",
    "    except:\n",
    "        supervisor = \"unknown\"\n",
    "    \n",
    "    \n",
    "    meta_dict = {\"idn\":idn, \"titel\":titel, \"author\":author, \"gnd\":gnd, \"supervisor\":supervisor}\n",
    "    \n",
    "    return meta_dict\n",
    "\n"
   ]
  },
  {
   "cell_type": "code",
   "execution_count": 19,
   "metadata": {},
   "outputs": [
    {
     "data": {
      "text/html": [
       "<div>\n",
       "<style scoped>\n",
       "    .dataframe tbody tr th:only-of-type {\n",
       "        vertical-align: middle;\n",
       "    }\n",
       "\n",
       "    .dataframe tbody tr th {\n",
       "        vertical-align: top;\n",
       "    }\n",
       "\n",
       "    .dataframe thead th {\n",
       "        text-align: right;\n",
       "    }\n",
       "</style>\n",
       "<table border=\"1\" class=\"dataframe\">\n",
       "  <thead>\n",
       "    <tr style=\"text-align: right;\">\n",
       "      <th></th>\n",
       "      <th>idn</th>\n",
       "      <th>titel</th>\n",
       "      <th>author</th>\n",
       "      <th>gnd</th>\n",
       "      <th>supervisor</th>\n",
       "    </tr>\n",
       "  </thead>\n",
       "  <tbody>\n",
       "    <tr>\n",
       "      <th>0</th>\n",
       "      <td>801327865</td>\n",
       "      <td>1-O-Hydroxicinnamyl-β-D-glucopyranosen [OHyd...</td>\n",
       "      <td>Reichert, Angelika</td>\n",
       "      <td>none</td>\n",
       "      <td>unknown</td>\n",
       "    </tr>\n",
       "    <tr>\n",
       "      <th>1</th>\n",
       "      <td>810017954</td>\n",
       "      <td>1,1-Di-tert-butyl-1-silacyclobutan [Ditertbu...</td>\n",
       "      <td>Rankers, Reinhard</td>\n",
       "      <td>(DE-588)1042386145</td>\n",
       "      <td>unknown</td>\n",
       "    </tr>\n",
       "    <tr>\n",
       "      <th>2</th>\n",
       "      <td>810642514</td>\n",
       "      <td>1,3-Benzazaphosphole [Benzazaphosphole] und ...</td>\n",
       "      <td>Vollmer, Gerd-Rainer</td>\n",
       "      <td>(DE-588)1234420597</td>\n",
       "      <td>unknown</td>\n",
       "    </tr>\n",
       "    <tr>\n",
       "      <th>3</th>\n",
       "      <td>810622653</td>\n",
       "      <td>1,3-Dipolare [Dipolare] Cycloadditionen arom...</td>\n",
       "      <td>Temme, Robert</td>\n",
       "      <td>none</td>\n",
       "      <td>unknown</td>\n",
       "    </tr>\n",
       "    <tr>\n",
       "      <th>4</th>\n",
       "      <td>810830981</td>\n",
       "      <td>13C-13C-Kopplungskonstanten [C-C-Kopplungsko...</td>\n",
       "      <td>Wardeiner, Jürgen</td>\n",
       "      <td>none</td>\n",
       "      <td>unknown</td>\n",
       "    </tr>\n",
       "    <tr>\n",
       "      <th>...</th>\n",
       "      <td>...</td>\n",
       "      <td>...</td>\n",
       "      <td>...</td>\n",
       "      <td>...</td>\n",
       "      <td>...</td>\n",
       "    </tr>\n",
       "    <tr>\n",
       "      <th>3833</th>\n",
       "      <td>820035548</td>\n",
       "      <td>Zweitsinn</td>\n",
       "      <td>Kandler, Günther</td>\n",
       "      <td>none</td>\n",
       "      <td>unknown</td>\n",
       "    </tr>\n",
       "    <tr>\n",
       "      <th>3834</th>\n",
       "      <td>810635585</td>\n",
       "      <td>Zytochrom P-450 [P] in der Hefe Saccharomyce...</td>\n",
       "      <td>Kuhl, Rosemarie</td>\n",
       "      <td>none</td>\n",
       "      <td>unknown</td>\n",
       "    </tr>\n",
       "    <tr>\n",
       "      <th>3835</th>\n",
       "      <td>211861316</td>\n",
       "      <td>Zytofluorometrische Untersuchung DNA-spezifisc...</td>\n",
       "      <td>Hauser-Urfer, Ingrid Helen</td>\n",
       "      <td>none</td>\n",
       "      <td>unknown</td>\n",
       "    </tr>\n",
       "    <tr>\n",
       "      <th>3836</th>\n",
       "      <td>211861154</td>\n",
       "      <td>Zytofluorometrische Untersuchungen zur Charakt...</td>\n",
       "      <td>Müller, Beat Walter</td>\n",
       "      <td>none</td>\n",
       "      <td>unknown</td>\n",
       "    </tr>\n",
       "    <tr>\n",
       "      <th>3837</th>\n",
       "      <td>810647273</td>\n",
       "      <td>Zytogenetische Untersuchungen an Soma- und Kei...</td>\n",
       "      <td>Träger, Heinz</td>\n",
       "      <td>none</td>\n",
       "      <td>unknown</td>\n",
       "    </tr>\n",
       "  </tbody>\n",
       "</table>\n",
       "<p>3838 rows × 5 columns</p>\n",
       "</div>"
      ],
      "text/plain": [
       "            idn                                              titel  \\\n",
       "0     801327865  1-O-Hydroxicinnamyl-β-D-glucopyranosen [OHyd...   \n",
       "1     810017954  1,1-Di-tert-butyl-1-silacyclobutan [Ditertbu...   \n",
       "2     810642514  1,3-Benzazaphosphole [Benzazaphosphole] und ...   \n",
       "3     810622653  1,3-Dipolare [Dipolare] Cycloadditionen arom...   \n",
       "4     810830981  13C-13C-Kopplungskonstanten [C-C-Kopplungsko...   \n",
       "...         ...                                                ...   \n",
       "3833  820035548                                          Zweitsinn   \n",
       "3834  810635585  Zytochrom P-450 [P] in der Hefe Saccharomyce...   \n",
       "3835  211861316  Zytofluorometrische Untersuchung DNA-spezifisc...   \n",
       "3836  211861154  Zytofluorometrische Untersuchungen zur Charakt...   \n",
       "3837  810647273  Zytogenetische Untersuchungen an Soma- und Kei...   \n",
       "\n",
       "                          author                 gnd supervisor  \n",
       "0             Reichert, Angelika                none    unknown  \n",
       "1              Rankers, Reinhard  (DE-588)1042386145    unknown  \n",
       "2           Vollmer, Gerd-Rainer  (DE-588)1234420597    unknown  \n",
       "3                  Temme, Robert                none    unknown  \n",
       "4              Wardeiner, Jürgen                none    unknown  \n",
       "...                          ...                 ...        ...  \n",
       "3833            Kandler, Günther                none    unknown  \n",
       "3834             Kuhl, Rosemarie                none    unknown  \n",
       "3835  Hauser-Urfer, Ingrid Helen                none    unknown  \n",
       "3836         Müller, Beat Walter                none    unknown  \n",
       "3837               Träger, Heinz                none    unknown  \n",
       "\n",
       "[3838 rows x 5 columns]"
      ]
     },
     "execution_count": 19,
     "metadata": {},
     "output_type": "execute_result"
    }
   ],
   "source": [
    "output = [parse_record(record) for record in myquery]\n",
    "df = pd.DataFrame(output)\n",
    "df"
   ]
  },
  {
   "cell_type": "code",
   "execution_count": 115,
   "metadata": {},
   "outputs": [],
   "source": [
    "#Speichern der Ergebnisse aus dem Dataframe als CSV-Datei: \n",
    "df.to_csv(\"Abfrage.csv\", index=False) "
   ]
  },
  {
   "cell_type": "code",
   "execution_count": 122,
   "metadata": {},
   "outputs": [],
   "source": [
    "#Speichern der Ergebnisse aus dem Dataframe als Excel-Datei: \n",
    "df.to_excel(\"Abfrage.xlsx\", index=False, encoding='utf8') "
   ]
  },
  {
   "cell_type": "markdown",
   "metadata": {},
   "source": [
    "### Filtern des Dataframe"
   ]
  },
  {
   "cell_type": "code",
   "execution_count": 20,
   "metadata": {},
   "outputs": [
    {
     "data": {
      "text/html": [
       "<div>\n",
       "<style scoped>\n",
       "    .dataframe tbody tr th:only-of-type {\n",
       "        vertical-align: middle;\n",
       "    }\n",
       "\n",
       "    .dataframe tbody tr th {\n",
       "        vertical-align: top;\n",
       "    }\n",
       "\n",
       "    .dataframe thead th {\n",
       "        text-align: right;\n",
       "    }\n",
       "</style>\n",
       "<table border=\"1\" class=\"dataframe\">\n",
       "  <thead>\n",
       "    <tr style=\"text-align: right;\">\n",
       "      <th></th>\n",
       "      <th>idn</th>\n",
       "      <th>titel</th>\n",
       "      <th>author</th>\n",
       "      <th>gnd</th>\n",
       "      <th>supervisor</th>\n",
       "    </tr>\n",
       "  </thead>\n",
       "  <tbody>\n",
       "    <tr>\n",
       "      <th>263</th>\n",
       "      <td>810363992</td>\n",
       "      <td>Beiträge zur \"Energetischen Geomorphologie\" in...</td>\n",
       "      <td>unknown</td>\n",
       "      <td>none</td>\n",
       "      <td>Hempel, Ludwig - Verfasser</td>\n",
       "    </tr>\n",
       "    <tr>\n",
       "      <th>408</th>\n",
       "      <td>208938184</td>\n",
       "      <td>Biostratigraphie und Ammonitenfauna des Unter-...</td>\n",
       "      <td>unknown</td>\n",
       "      <td>none</td>\n",
       "      <td>unknown</td>\n",
       "    </tr>\n",
       "    <tr>\n",
       "      <th>695</th>\n",
       "      <td>830662197</td>\n",
       "      <td>Deutsche Soldatenlieder</td>\n",
       "      <td>unknown</td>\n",
       "      <td>none</td>\n",
       "      <td>unknown</td>\n",
       "    </tr>\n",
       "    <tr>\n",
       "      <th>2156</th>\n",
       "      <td>213230720</td>\n",
       "      <td>Primärstruktur des Polypeptids IV aus Cytochro...</td>\n",
       "      <td>unknown</td>\n",
       "      <td>none</td>\n",
       "      <td>unknown</td>\n",
       "    </tr>\n",
       "    <tr>\n",
       "      <th>3577</th>\n",
       "      <td>800527038</td>\n",
       "      <td>Wirkungsanalyse im Rahmen der Landschaftsplanung</td>\n",
       "      <td>unknown</td>\n",
       "      <td>none</td>\n",
       "      <td>Krause, Christian L. - Mitwirkender</td>\n",
       "    </tr>\n",
       "  </tbody>\n",
       "</table>\n",
       "</div>"
      ],
      "text/plain": [
       "            idn                                              titel   author  \\\n",
       "263   810363992  Beiträge zur \"Energetischen Geomorphologie\" in...  unknown   \n",
       "408   208938184  Biostratigraphie und Ammonitenfauna des Unter-...  unknown   \n",
       "695   830662197                            Deutsche Soldatenlieder  unknown   \n",
       "2156  213230720  Primärstruktur des Polypeptids IV aus Cytochro...  unknown   \n",
       "3577  800527038   Wirkungsanalyse im Rahmen der Landschaftsplanung  unknown   \n",
       "\n",
       "       gnd                           supervisor  \n",
       "263   none           Hempel, Ludwig - Verfasser  \n",
       "408   none                              unknown  \n",
       "695   none                              unknown  \n",
       "2156  none                              unknown  \n",
       "3577  none  Krause, Christian L. - Mitwirkender  "
      ]
     },
     "execution_count": 20,
     "metadata": {},
     "output_type": "execute_result"
    }
   ],
   "source": [
    "## Show all items where no author was found: \n",
    "\n",
    "noauthors = df.query('author == \"unknown\"')\n",
    "noauthors"
   ]
  },
  {
   "cell_type": "code",
   "execution_count": null,
   "metadata": {},
   "outputs": [],
   "source": []
  }
 ],
 "metadata": {
  "kernelspec": {
   "display_name": "Python 3",
   "language": "python",
   "name": "python3"
  },
  "language_info": {
   "codemirror_mode": {
    "name": "ipython",
    "version": 3
   },
   "file_extension": ".py",
   "mimetype": "text/x-python",
   "name": "python",
   "nbconvert_exporter": "python",
   "pygments_lexer": "ipython3",
   "version": "3.8.8"
  }
 },
 "nbformat": 4,
 "nbformat_minor": 4
}
